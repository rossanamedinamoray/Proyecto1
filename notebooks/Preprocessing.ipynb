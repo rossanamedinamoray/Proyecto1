{
 "cells": [
  {
   "cell_type": "markdown",
   "id": "11b7ef3a",
   "metadata": {},
   "source": [
    "# Preprocesamiento de Datos\n",
    "Este notebook contiene el preprocesamiento del dataset."
   ]
  },
  {
   "cell_type": "code",
   "execution_count": null,
   "id": "8b0d45cd",
   "metadata": {},
   "outputs": [],
   "source": [
    "\n",
    "# Importar librerías\n",
    "from sklearn.compose import ColumnTransformer\n",
    "from sklearn.pipeline import Pipeline\n",
    "from sklearn.preprocessing import OneHotEncoder, StandardScaler\n",
    "\n",
    "# Separar variables categóricas y numéricas\n",
    "categorical_columns = ['Gender', 'Product Category']\n",
    "numerical_columns = ['Age', 'Quantity', 'Price per Unit']\n",
    "\n",
    "# Configurar transformaciones específicas\n",
    "preprocessor = ColumnTransformer(\n",
    "    transformers=[\n",
    "        (\"num\", StandardScaler(), numerical_columns),\n",
    "        (\"cat\", OneHotEncoder(drop=\"first\"), categorical_columns),\n",
    "    ]\n",
    ")\n",
    "\n",
    "# Crear el pipeline\n",
    "pipeline = Pipeline(steps=[\n",
    "    (\"preprocessor\", preprocessor)\n",
    "])\n",
    "\n",
    "# Aplicar el pipeline\n",
    "X = dataset[categorical_columns + numerical_columns]\n",
    "y = dataset[\"Total Amount\"]\n",
    "X_transformed = pipeline.fit_transform(X)\n"
   ]
  }
 ],
 "metadata": {},
 "nbformat": 4,
 "nbformat_minor": 5
}
