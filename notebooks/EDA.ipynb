{
 "cells": [
  {
   "cell_type": "markdown",
   "id": "5b29283a",
   "metadata": {},
   "source": [
    "# Análisis Exploratorio de Datos (EDA)\n",
    "Este notebook contiene el análisis inicial y la exploración del dataset."
   ]
  },
  {
   "cell_type": "code",
   "execution_count": null,
   "id": "6b71f95a",
   "metadata": {},
   "outputs": [],
   "source": [
    "\n",
    "# Importar librerías\n",
    "import pandas as pd\n",
    "import matplotlib.pyplot as plt\n",
    "import seaborn as sns\n",
    "\n",
    "# Cargar dataset\n",
    "file_path = 'data\\retail_sales_dataset.csv'\n",
    "dataset = pd.read_csv(file_path)\n",
    "\n",
    "# Estructura básica del dataset\n",
    "dataset.info()\n",
    "dataset.head()\n",
    "\n",
    "# Visualizaciones de distribuciones y correlaciones\n",
    "plt.figure(figsize=(8, 6))\n",
    "sns.heatmap(dataset.corr(), annot=True, cmap=\"coolwarm\")\n",
    "plt.title(\"Mapa de Calor de Correlaciones\")\n",
    "plt.show()\n"
   ]
  }
 ],
 "metadata": {
  "language_info": {
   "name": "python"
  }
 },
 "nbformat": 4,
 "nbformat_minor": 5
}
