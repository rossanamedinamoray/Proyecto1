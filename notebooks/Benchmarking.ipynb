{
 "cells": [
  {
   "cell_type": "markdown",
   "id": "361fb284",
   "metadata": {},
   "source": [
    "# Benchmarking de Modelos de Machine Learning\n",
    "Este notebook contiene el benchmarking de múltiples modelos."
   ]
  },
  {
   "cell_type": "code",
   "execution_count": null,
   "id": "3514a921",
   "metadata": {},
   "outputs": [],
   "source": [
    "\n",
    "# Importar librerías\n",
    "from sklearn.model_selection import train_test_split, cross_val_score\n",
    "from sklearn.linear_model import LinearRegression\n",
    "from sklearn.ensemble import RandomForestRegressor\n",
    "from sklearn.tree import DecisionTreeRegressor\n",
    "from sklearn.metrics import mean_squared_error, r2_score\n",
    "\n",
    "# Dividir el dataset\n",
    "X_train, X_test, y_train, y_test = train_test_split(X_transformed, y, test_size=0.2, random_state=42)\n",
    "\n",
    "# Definir y evaluar modelos\n",
    "models = {\n",
    "    \"Linear Regression\": LinearRegression(),\n",
    "    \"Decision Tree\": DecisionTreeRegressor(random_state=42),\n",
    "    \"Random Forest\": RandomForestRegressor(random_state=42, n_estimators=100)\n",
    "}\n",
    "\n",
    "results = []\n",
    "for name, model in models.items():\n",
    "    model.fit(X_train, y_train)\n",
    "    y_pred = model.predict(X_test)\n",
    "    mse = mean_squared_error(y_test, y_pred)\n",
    "    r2 = r2_score(y_test, y_pred)\n",
    "    results.append({\"Model\": name, \"MSE\": mse, \"R2\": r2})\n",
    "\n",
    "# Mostrar resultados\n",
    "pd.DataFrame(results)\n"
   ]
  }
 ],
 "metadata": {
  "language_info": {
   "name": "python"
  }
 },
 "nbformat": 4,
 "nbformat_minor": 5
}
